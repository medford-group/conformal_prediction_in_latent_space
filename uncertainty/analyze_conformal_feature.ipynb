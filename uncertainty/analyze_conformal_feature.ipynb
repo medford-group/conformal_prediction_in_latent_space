{
 "cells": [
  {
   "cell_type": "code",
   "execution_count": 1,
   "metadata": {},
   "outputs": [],
   "source": [
    "import sys\n",
    "import os\n",
    "import csv\n",
    "\n",
    "import pickle\n",
    "import copy\n",
    "import ase.io\n",
    "import numpy as np\n",
    "import torch\n",
    "\n",
    "from amptorch.trainer import AtomsTrainer\n",
    "from numpy.random import default_rng\n",
    "\n",
    "from sklearn.neighbors import KDTree\n",
    "from sklearn.preprocessing import StandardScaler\n",
    "\n",
    "from scipy.stats import gaussian_kde\n",
    "import matplotlib\n",
    "from matplotlib import pyplot as plt\n",
    "from shutil import rmtree\n",
    "import copy\n",
    "from ase.calculators.singlepoint import SinglePointCalculator\n",
    "import time\n",
    "\n",
    "\n",
    "def load_training_data(training_filename, test_filename):\n",
    "\n",
    "    training_list = ase.io.read(training_filename, index=\":\")\n",
    "    test_list = ase.io.read(test_filename, index=\":\")\n",
    "\n",
    "    return training_list, test_list\n",
    "\n",
    "def write2csv(csv_filename, message, header=None):\n",
    "    if os.path.exists(csv_filename) is False:\n",
    "        if header is not None:\n",
    "            with open(csv_filename, \"w\", newline=\"\") as f:\n",
    "                writer = csv.writer(f, delimiter=',',quotechar='|', quoting=csv.QUOTE_MINIMAL)\n",
    "                writer.writerow(header)\n",
    "\n",
    "    with open(csv_filename, \"a\", newline=\"\") as f:\n",
    "        writer = csv.writer(f, delimiter=',',quotechar='|', quoting=csv.QUOTE_MINIMAL)\n",
    "        writer.writerow(message)\n",
    "    return\n",
    "\n",
    "\n",
    "def calc_dist(train_X, calib_X, nearest_neighbors=10, metric=\"minkowski\"):\n",
    "    std_scaler = StandardScaler().fit(train_X)\n",
    "    train_X_std_scaled = std_scaler.transform(train_X)\n",
    "    calib_X_std_scaled = std_scaler.transform(calib_X)\n",
    "    \n",
    "    kdtree = KDTree(train_X_std_scaled, metric=metric)\n",
    "    dist, ind = kdtree.query(calib_X_std_scaled, k=nearest_neighbors)\n",
    "    \n",
    "    return dist.mean(axis=1)\n",
    "\n",
    "\n",
    "def predict_data(pred_energies, test_images):\n",
    "    \n",
    "    true_energies = np.array([image.get_potential_energy() for image in test_images])\n",
    "\n",
    "    list_of_error_per_atom = []\n",
    "\n",
    "    for i, image in enumerate(test_images):\n",
    "        num_atoms = len(image.get_atomic_numbers())\n",
    "        total_energy_pred = pred_energies[i]\n",
    "        total_energy_true = true_energies[i]\n",
    "\n",
    "        error = pred_energies[i] - true_energies[i]\n",
    "        per_atom_error = error / num_atoms\n",
    "        list_of_error_per_atom.append(per_atom_error)\n",
    "\n",
    "    return list_of_error_per_atom\n",
    "\n",
    "class ConformalPrediction():\n",
    "    def __init__(self, residuals_calib, heurestic_uncertainty_calib, alpha) -> None:\n",
    "        # score function\n",
    "        scores = abs(residuals_calib / heurestic_uncertainty_calib)\n",
    "        scores = np.array(scores)\n",
    "\n",
    "        n=len(residuals_calib)\n",
    "        qhat = torch.quantile(torch.from_numpy(scores), np.ceil((n + 1) * (1 - alpha)) / n)\n",
    "        qhat_value = np.float64(qhat.numpy())\n",
    "        self.qhat = qhat_value\n",
    "        pass\n",
    "\n",
    "    def predict(self, heurestic_uncertainty_test):\n",
    "        return heurestic_uncertainty_test * self.qhat, self.qhat\n",
    "\n",
    "    \n",
    "def prepare_featureNerror_from_trainer(trainer, images, image_type, get_descriptors=True):\n",
    "    predictions = trainer.predict(images, get_descriptors=get_descriptors)\n",
    "    feature = np.array(predictions[\"descriptors\"])\n",
    "\n",
    "    # errors for train, test, calib\n",
    "    if image_type in [\"test\", \"calib\", \"train\"]:\n",
    "        y_bar = np.array(predictions[\"energy\"])\n",
    "        list_error = predict_data(y_bar, images)\n",
    "        list_error = np.array(list_error)\n",
    "    else:\n",
    "        raise NotImplementedError  \n",
    "\n",
    "    return feature, list_error\n",
    "\n",
    "def split_test_calib(full_test_X, full_test_y, per_calib, seed=0):\n",
    "    # sub-select calib and test\n",
    "    np.random.seed(seed)\n",
    "\n",
    "    # num_total=5000\n",
    "    num_total = len(full_test_X)\n",
    "\n",
    "    num_calib = round(per_calib * num_total)\n",
    "\n",
    "    rand_idx = np.random.choice(num_total, size=num_total, replace=False)\n",
    "    calib_idx = rand_idx[:num_calib]\n",
    "    test_idx = rand_idx[num_calib::]\n",
    "\n",
    "    calib_X = [full_test_X[_] for _ in calib_idx]\n",
    "    test_X = [full_test_X[_] for _ in test_idx]\n",
    "\n",
    "    calib_y = [full_test_y[_] for _ in calib_idx]\n",
    "    test_y = [full_test_y[_] for _ in test_idx]\n",
    "\n",
    "    return test_X, test_y, calib_X, calib_y\n",
    "\n",
    "def calc_uncertainty_metrics(list_error, uncertainty):\n",
    "    overconfident_idx = np.argwhere(abs(list_error) > uncertainty)\n",
    "\n",
    "    prob_overconfidence = len(overconfident_idx) / len(uncertainty)\n",
    "    avg_uncertainty = np.mean(uncertainty)\n",
    "    \n",
    "    return prob_overconfidence, avg_uncertainty\n",
    "\n",
    "def get_result_hash(parameter_string):\n",
    "    string = str(parameter_string)\n",
    "    md5 = hashlib.md5(string.encode(\"utf-8\"))\n",
    "    hash_result = md5.hexdigest()\n",
    "    return hash_result"
   ]
  },
  {
   "cell_type": "code",
   "execution_count": 2,
   "metadata": {},
   "outputs": [],
   "source": [
    "\n",
    "# user-defined parameters \n",
    "num_nearest_neighbors = 10\n",
    "per_calib = 0.1\n",
    "metric = \"minkowski\"\n",
    "seed = 1\n",
    "\n",
    "# fixed model parameters\n",
    "path2config = <input checkpoint dir> # checkpoint dir by training"
   ]
  },
  {
   "cell_type": "code",
   "execution_count": 3,
   "metadata": {},
   "outputs": [],
   "source": [
    "# plot setting\n",
    "# import matplotlib as mpl\n",
    "# mpl.rcParams.update(mpl.rcParamsDefault)\n",
    "colors=[\"#f14432\", \"#fc8a6a\"]\n",
    "\n",
    "matplotlib.rcParams.update(matplotlib.rcParamsDefault)\n",
    "\n",
    "# Set figure defaults\n",
    "width = 6.5 / 3\n",
    "fontsize = 10\n",
    "rc = {'figure.figsize': (width, width),\n",
    "#       'font.family': \"serif\",\n",
    "      'font.size': fontsize,\n",
    "      'axes.labelsize': fontsize,\n",
    "      'axes.titlesize': fontsize,\n",
    "      'xtick.labelsize': 'small',\n",
    "      'ytick.labelsize': 'small',\n",
    "      'legend.fontsize': fontsize}\n",
    "\n",
    "matplotlib.rcParams.update(rc)"
   ]
  },
  {
   "cell_type": "code",
   "execution_count": 4,
   "metadata": {},
   "outputs": [],
   "source": [
    "trial=50000\n",
    "\n",
    "train_filename = <input train dataset dir>\n",
    "test_filename = <input test dataset dir>\n",
    "train_list, test_list = load_training_data(train_filename, test_filename)\n"
   ]
  },
  {
   "cell_type": "code",
   "execution_count": 5,
   "metadata": {},
   "outputs": [
    {
     "name": "stdout",
     "output_type": "stream",
     "text": [
      "Calculating feature representation...\n",
      "Loading checkpoint from ./checkpoints/2022-02-03-17-52-17-data50000-ordernorm_sigma10logwide_MCSH3_NN32_constrs1.0_sh1\n",
      "Use Xavier initialization\n",
      "Loading model: 11393 parameters\n",
      "Loading skorch trainer\n"
     ]
    }
   ],
   "source": [
    "print(\"Calculating feature representation...\")\n",
    "# load trainer\n",
    "trainer = AtomsTrainer()\n",
    "trainer.load_pretrained(path2config)\n",
    "\n",
    "# obtain the features\n",
    "train_X, train_y = prepare_featureNerror_from_trainer(trainer, train_list, \"train\")\n",
    "full_test_X, full_test_y = prepare_featureNerror_from_trainer(trainer, test_list, \"train\")\n",
    "\n",
    "# save the latent space features and energies\n",
    "# pickle.dump(train_X, open(full_train_X_filename, \"wb\"))\n",
    "# pickle.dump(train_y, open(full_train_y_filename, \"wb\"))\n",
    "# pickle.dump(full_test_X, open(full_test_X_filename, \"wb\"))\n",
    "# pickle.dump(full_test_y, open(full_test_y_filename, \"wb\"))\n",
    "# pickle.dump(t_latent_prep, open(t_latent_prep_filename, \"wb\"))"
   ]
  },
  {
   "cell_type": "code",
   "execution_count": 6,
   "metadata": {},
   "outputs": [
    {
     "data": {
      "text/plain": [
       "(50000, 40)"
      ]
     },
     "execution_count": 6,
     "metadata": {},
     "output_type": "execute_result"
    }
   ],
   "source": [
    "train_X.shape"
   ]
  },
  {
   "cell_type": "code",
   "execution_count": 7,
   "metadata": {},
   "outputs": [],
   "source": [
    "# predict test and calib\n",
    "test_X, test_y, calib_X, calib_y = split_test_calib(full_test_X, full_test_y, per_calib, seed=seed)\n",
    "train_X = np.array(train_X)\n",
    "train_y = np.array(train_y)\n",
    "test_X = np.array(test_X)\n",
    "test_y = np.array(test_y)\n",
    "calib_X = np.array(calib_X)\n",
    "calib_y = np.array(calib_y)\n",
    "\n",
    "# convert energy from kcal/mol to meV/sys\n",
    "train_y *= 0.04336 * 1000\n",
    "test_y *= 0.04336 * 1000\n",
    "calib_y *= 0.04336 * 1000\n",
    "\n",
    "# calculating the distance metric for test+calib\n",
    "t0 = time.time()\n",
    "calib_dist = calc_dist(train_X, calib_X, nearest_neighbors=num_nearest_neighbors, metric=metric)\n",
    "test_dist = calc_dist(train_X, test_X, nearest_neighbors=num_nearest_neighbors, metric=metric)"
   ]
  },
  {
   "cell_type": "code",
   "execution_count": 8,
   "metadata": {},
   "outputs": [
    {
     "data": {
      "text/plain": [
       "(array([  13.,   44.,  225.,  935., 3896., 8146., 4600.,  896.,  131.,\n",
       "          14.]),\n",
       " array([-10.03576751,  -8.22273513,  -6.40970276,  -4.59667038,\n",
       "         -2.78363801,  -0.97060564,   0.84242674,   2.65545911,\n",
       "          4.46849149,   6.28152386,   8.09455624]),\n",
       " <BarContainer object of 10 artists>)"
      ]
     },
     "execution_count": 8,
     "metadata": {},
     "output_type": "execute_result"
    }
   ],
   "source": [
    "plt.hist(test_y)"
   ]
  },
  {
   "cell_type": "code",
   "execution_count": 9,
   "metadata": {},
   "outputs": [
    {
     "data": {
      "text/plain": [
       "(array([4.600e+02, 9.180e+03, 7.427e+03, 1.572e+03, 2.150e+02, 4.200e+01,\n",
       "        3.000e+00, 0.000e+00, 0.000e+00, 1.000e+00]),\n",
       " array([0.82686405, 1.33438998, 1.84191591, 2.34944184, 2.85696776,\n",
       "        3.36449369, 3.87201962, 4.37954555, 4.88707148, 5.39459741,\n",
       "        5.90212334]),\n",
       " <BarContainer object of 10 artists>)"
      ]
     },
     "execution_count": 9,
     "metadata": {},
     "output_type": "execute_result"
    }
   ],
   "source": [
    "plt.hist(test_dist)"
   ]
  },
  {
   "cell_type": "code",
   "execution_count": 10,
   "metadata": {},
   "outputs": [],
   "source": [
    "# conformal prediction\n",
    "alpha1 = 1-0.68\n",
    "model_cp1 = ConformalPrediction(calib_y, calib_dist, alpha=alpha1)\n",
    "test_uncertainty1, qhat1 = model_cp1.predict(test_dist)\n",
    "\n",
    "alpha2 = 1-0.95\n",
    "model_cp2 = ConformalPrediction(calib_y, calib_dist, alpha=alpha2)\n",
    "test_uncertainty2, qhat2 = model_cp2.predict(test_dist)"
   ]
  },
  {
   "cell_type": "code",
   "execution_count": 11,
   "metadata": {},
   "outputs": [],
   "source": [
    "import matplotlib.patheffects as PathEffects\n",
    "\n",
    "def plot_scatter_residuals_vs_heurestic_uncertainty(heurestic_uncertainty_test, residuals_test, qhats, ps, xlabel=\"latent dist. [a.u.]\", title=None, save_filename=None,dpi=300):\n",
    "    heurestic_uncertainty_test = copy.deepcopy(heurestic_uncertainty_test)\n",
    "    residuals_test = copy.deepcopy(residuals_test)\n",
    "    qhat1, qhat2 = qhats\n",
    "    p_1, p_2, p_3 = ps\n",
    "    \n",
    "    ref_fx = np.linspace(np.amin(heurestic_uncertainty_test), np.amax(heurestic_uncertainty_test), 100)\n",
    "    xy = np.vstack([heurestic_uncertainty_test, residuals_test])\n",
    "    z = gaussian_kde(xy)(xy)\n",
    "    # Sort the points by density, so that the densest points are plotted last\n",
    "    idx = z.argsort()\n",
    "    heurestic_uncertainty_test, residuals_test, z = heurestic_uncertainty_test[idx], residuals_test[idx], z[idx]\n",
    "\n",
    "    fig, ax = plt.subplots()\n",
    "\n",
    "    ax.plot(ref_fx, ref_fx * qhat1,c=colors[0])\n",
    "    ax.plot(ref_fx, - ref_fx * qhat1,c=colors[0])\n",
    "\n",
    "    ax.plot(ref_fx, ref_fx * qhat2,c=colors[1])\n",
    "    ax.plot(ref_fx, - ref_fx * qhat2,c=colors[1])\n",
    "    \n",
    "    ax.fill_between(ref_fx, ref_fx * qhat1, - ref_fx * qhat1, alpha=0.2, color=colors[0], linewidth=0)\n",
    "    ax.fill_between(ref_fx, ref_fx * qhat2, - ref_fx * qhat2, alpha=0.2, color=colors[1], linewidth=0)\n",
    "    ax.plot(ref_fx, [0]*100, \"--\", color=\"darkgray\")\n",
    "\n",
    "    x_lower_lim = np.quantile(heurestic_uncertainty_test, 1e-4)\n",
    "    x_upper_lim = np.quantile(heurestic_uncertainty_test, 0.998)\n",
    "    \n",
    "    # force share-y\n",
    "    ax.set_xlim([x_lower_lim, x_upper_lim])\n",
    "    ax.set_ylim([-7.5, 7.5])\n",
    "    \n",
    "    # add text of prob\n",
    "    prob_posi = (x_upper_lim - x_lower_lim) * .8\n",
    "    txt = ax.text(2.7, 1.2, \"{:.0f}%\".format(p_1*100), color=colors[0])\n",
    "    txt.set_path_effects([PathEffects.withStroke(linewidth=1.5, foreground='w')])\n",
    "    txt = ax.text(2.7, 4.5, \"{:.0f}%\".format(p_2*100), color=colors[1])\n",
    "    txt.set_path_effects([PathEffects.withStroke(linewidth=1.5, foreground='w')])\n",
    "    txt = ax.text(2.4, 6.2, \"{:.0f}%\".format(p_3*100), color=\"k\")\n",
    "    txt.set_path_effects([PathEffects.withStroke(linewidth=1.5, foreground='w')])\n",
    "\n",
    "    ax.scatter(heurestic_uncertainty_test, residuals_test, c=z, s=20, alpha=.2)\n",
    "    ax.set_xlabel(xlabel)\n",
    "    ax.set_ylabel(\"residual [meV/sys]\")\n",
    "\n",
    "    if title is not None:\n",
    "        ax.set_title(title)\n",
    "    # if save_filename is not None:\n",
    "    #     fig.savefig(save_filename)\n",
    "    # if dpi is not None:\n",
    "    #     fig.savefig(save_filename, dpi=dpi, bbox_inches=\"tight\", transparent=True)\n",
    "    \n",
    "    return fig, ax"
   ]
  },
  {
   "cell_type": "code",
   "execution_count": 12,
   "metadata": {},
   "outputs": [
    {
     "data": {
      "image/png": "[encoded data removed]",
      "text/plain": [
       "<Figure size 216.667x216.667 with 1 Axes>"
      ]
     },
     "execution_count": 12,
     "metadata": {},
     "output_type": "execute_result"
    }
   ],
   "source": [
    "# quantify uncertainty\n",
    "overconfident_idx1 = np.argwhere(abs(test_y) > test_uncertainty1)\n",
    "overconfident_idx2 = np.argwhere(abs(test_y) > test_uncertainty2)\n",
    "\n",
    "p1 = 1 - len(overconfident_idx1) / len(test_uncertainty1)\n",
    "p2 = 1 - len(overconfident_idx2) / len(test_uncertainty2)\n",
    "p3 = 1 - p2\n",
    "\n",
    "fig_filename = \"./figures/panel_method_comparison/cp_feature_dpi300.png\"\n",
    "fig, ax = plot_scatter_residuals_vs_heurestic_uncertainty(test_dist, test_y, (qhat1, qhat2), (p1, p2, p3), xlabel=\"feature dist. [a.u.]\", save_filename=fig_filename)\n",
    "fig\n",
    "# plot_scatter_residuals_vs_heurestic_uncertainty(test_dist, list_epa_test, qhat, xlabel=\"latent dist. [a.u.]\", save_filename=fig_filename)\n"
   ]
  },
  {
   "cell_type": "code",
   "execution_count": 13,
   "metadata": {},
   "outputs": [
    {
     "data": {
      "text/plain": [
       "-0.05067788875056689"
      ]
     },
     "execution_count": 13,
     "metadata": {},
     "output_type": "execute_result"
    }
   ],
   "source": [
    "np.mean(test_y)"
   ]
  },
  {
   "cell_type": "code",
   "execution_count": 14,
   "metadata": {},
   "outputs": [
    {
     "data": {
      "text/plain": [
       "1.6777220081885507"
      ]
     },
     "execution_count": 14,
     "metadata": {},
     "output_type": "execute_result"
    }
   ],
   "source": [
    "np.mean(test_uncertainty1)"
   ]
  },
  {
   "cell_type": "code",
   "execution_count": 15,
   "metadata": {},
   "outputs": [
    {
     "data": {
      "text/plain": [
       "Text(23.999999999999993, 0.5, 'frequency')"
      ]
     },
     "execution_count": 15,
     "metadata": {},
     "output_type": "execute_result"
    }
   ],
   "source": [
    "plt.hist(test_uncertainty1,bins=100)\n",
    "plt.xlabel(\"uncertainty\")\n",
    "plt.ylabel(\"frequency\")\n",
    "\n",
    "# plt.hist(test_uncertainty2)"
   ]
  },
  {
   "cell_type": "code",
   "execution_count": 16,
   "metadata": {},
   "outputs": [
    {
     "data": {
      "text/plain": [
       "Text(23.999999999999993, 0.5, 'frequency')"
      ]
     },
     "execution_count": 16,
     "metadata": {},
     "output_type": "execute_result"
    }
   ],
   "source": [
    "plt.hist(test_uncertainty2,bins=100)\n",
    "plt.xlabel(\"uncertainty\")\n",
    "plt.ylabel(\"frequency\")"
   ]
  },
  {
   "cell_type": "code",
   "execution_count": 17,
   "metadata": {},
   "outputs": [],
   "source": [
    "# analyze which the portion of test data in between one to two std\n",
    "\n",
    "from scipy.stats import norm\n",
    "\n",
    "# count the number of instances\n",
    "\n",
    "expected_stds = np.linspace(norm.ppf(1e-3),\n",
    "                norm.ppf(1-1e-3), 15)\n",
    "\n",
    "expected_ps = []\n",
    "observed_ps = []\n",
    "test_uncertainties = []\n",
    "\n",
    "for std in expected_stds: \n",
    "\n",
    "    expected_p = norm.cdf(std)\n",
    "    expected_ps.append(expected_p)\n",
    "    \n",
    "    alpha = 1-expected_p\n",
    "    model_cp = ConformalPrediction(calib_y, calib_dist, alpha=alpha)\n",
    "    test_uncertainty, qhat = model_cp.predict(test_dist)\n",
    "    \n",
    "    count = np.sum(np.abs(test_y) < test_uncertainty)\n",
    "    observed_ps.append(count / len(test_y))\n",
    "    test_uncertainties.append(np.mean(test_uncertainty))\n"
   ]
  },
  {
   "cell_type": "code",
   "execution_count": 18,
   "metadata": {},
   "outputs": [
    {
     "data": {
      "text/plain": [
       "0.009428137449860145"
      ]
     },
     "execution_count": 18,
     "metadata": {},
     "output_type": "execute_result"
    }
   ],
   "source": [
    "# calculate the area of miscalculation in calibration curve\n",
    "\n",
    "from scipy.integrate import trapz as trapezoid\n",
    "\n",
    "area = 0\n",
    "\n",
    "for i in range(1, len(observed_ps)+1):\n",
    "    trap = np.abs(trapezoid(observed_ps[i-1:i+1], expected_ps[i-1:i+1]) \n",
    "                  - trapezoid(expected_ps[i-1:i+1], expected_ps[i-1:i+1]))\n",
    "    area += trap\n",
    "\n",
    "area"
   ]
  },
  {
   "cell_type": "code",
   "execution_count": 19,
   "metadata": {},
   "outputs": [
    {
     "data": {
      "image/png": "[encoded data removed]",
      "text/plain": [
       "<Figure size 216.667x216.667 with 1 Axes>"
      ]
     },
     "execution_count": 19,
     "metadata": {},
     "output_type": "execute_result"
    }
   ],
   "source": [
    "import matplotlib.ticker as mtick\n",
    "\n",
    "fig, ax = plt.subplots(figsize=(width, width))\n",
    "expected_ps = np.array(expected_ps) * 100 # convert to %\n",
    "observed_ps = np.array(observed_ps) * 100 # convert to %\n",
    "\n",
    "ax.plot(expected_ps, observed_ps)\n",
    "ax.plot(expected_ps, expected_ps, \"--\", alpha=0.4)\n",
    "\n",
    "ax.fill_between(expected_ps, expected_ps, observed_ps, alpha=0.2, linewidth=0)\n",
    "ax.set_xlim([0, 100])\n",
    "ax.set_ylim([0, 100])\n",
    "ax.set_aspect('equal')\n",
    "\n",
    "ax.set_xlabel(\"Expected conf. level\")\n",
    "ax.set_ylabel(\"Observed conf. level\")\n",
    "ax.locator_params(axis='y', nbins=4)\n",
    "ax.locator_params(axis='x', nbins=4)\n",
    "ax.xaxis.set_major_formatter(mtick.PercentFormatter())\n",
    "ax.yaxis.set_major_formatter(mtick.PercentFormatter())\n",
    "ax.text(8, 2, \"miscalc. area = {:.3f}\".format(area))\n",
    "\n",
    "save_filename = \"./figures/panel_method_comparison/cp_feature_calibration_curve.pdf\"\n",
    "# fig.savefig(save_filename,bbox_inches='tight')\n",
    "fig"
   ]
  },
  {
   "cell_type": "code",
   "execution_count": null,
   "metadata": {},
   "outputs": [],
   "source": []
  }
 ],
 "metadata": {
  "kernelspec": {
   "display_name": "Python [conda env:.conda-amptorch_gpu]",
   "language": "python",
   "name": "conda-env-.conda-amptorch_gpu-py"
  },
  "language_info": {
   "codemirror_mode": {
    "name": "ipython",
    "version": 3
   },
   "file_extension": ".py",
   "mimetype": "text/x-python",
   "name": "python",
   "nbconvert_exporter": "python",
   "pygments_lexer": "ipython3",
   "version": "3.6.15"
  }
 },
 "nbformat": 4,
 "nbformat_minor": 4
}
