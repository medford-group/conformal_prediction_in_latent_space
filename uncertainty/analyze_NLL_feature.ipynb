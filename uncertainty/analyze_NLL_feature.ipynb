{
 "cells": [
  {
   "cell_type": "code",
   "execution_count": 1,
   "id": "e9d55706",
   "metadata": {},
   "outputs": [],
   "source": [
    "%matplotlib inline\n",
    "import sys\n",
    "import os\n",
    "import csv\n",
    "\n",
    "import pickle\n",
    "import copy\n",
    "import ase.io\n",
    "import numpy as np\n",
    "import torch\n",
    "\n",
    "from amptorch.trainer import AtomsTrainer\n",
    "from numpy.random import default_rng\n",
    "\n",
    "from sklearn.neighbors import KDTree\n",
    "from sklearn.preprocessing import StandardScaler\n",
    "\n",
    "from scipy.stats import gaussian_kde\n",
    "import matplotlib\n",
    "import matplotlib.pyplot as plt\n",
    "import copy\n",
    "from ase.calculators.singlepoint import SinglePointCalculator\n",
    "import time\n",
    "import seaborn as sns"
   ]
  },
  {
   "cell_type": "code",
   "execution_count": 1,
   "id": "7803e081",
   "metadata": {},
   "outputs": [],
   "source": [
    "import sys\n",
    "import os\n",
    "import csv\n",
    "\n",
    "import pickle\n",
    "import copy\n",
    "import ase.io\n",
    "import numpy as np\n",
    "import torch\n",
    "\n",
    "from amptorch.trainer import AtomsTrainer\n",
    "from numpy.random import default_rng\n",
    "\n",
    "from sklearn.neighbors import KDTree\n",
    "from sklearn.preprocessing import StandardScaler\n",
    "\n",
    "from scipy.stats import gaussian_kde\n",
    "import matplotlib\n",
    "from matplotlib import pyplot as plt\n",
    "from shutil import rmtree\n",
    "import copy\n",
    "from ase.calculators.singlepoint import SinglePointCalculator\n",
    "import time\n",
    "\n",
    "\n",
    "def load_training_data(training_filename, test_filename):\n",
    "\n",
    "    training_list = ase.io.read(training_filename, index=\":\")\n",
    "    test_list = ase.io.read(test_filename, index=\":\")\n",
    "\n",
    "    return training_list, test_list\n",
    "\n",
    "def write2csv(csv_filename, message, header=None):\n",
    "    if os.path.exists(csv_filename) is False:\n",
    "        if header is not None:\n",
    "            with open(csv_filename, \"w\", newline=\"\") as f:\n",
    "                writer = csv.writer(f, delimiter=',',quotechar='|', quoting=csv.QUOTE_MINIMAL)\n",
    "                writer.writerow(header)\n",
    "\n",
    "    with open(csv_filename, \"a\", newline=\"\") as f:\n",
    "        writer = csv.writer(f, delimiter=',',quotechar='|', quoting=csv.QUOTE_MINIMAL)\n",
    "        writer.writerow(message)\n",
    "    return\n",
    "\n",
    "\n",
    "def calc_dist(train_X, calib_X, nearest_neighbors=10, metric=\"minkowski\"):\n",
    "    std_scaler = StandardScaler().fit(train_X)\n",
    "    train_X_std_scaled = std_scaler.transform(train_X)\n",
    "    calib_X_std_scaled = std_scaler.transform(calib_X)\n",
    "    \n",
    "    kdtree = KDTree(train_X_std_scaled, metric=metric)\n",
    "    dist, ind = kdtree.query(calib_X_std_scaled, k=nearest_neighbors)\n",
    "    \n",
    "    return dist.mean(axis=1)\n",
    "\n",
    "\n",
    "def predict_data(pred_energies, test_images):\n",
    "    \n",
    "    true_energies = np.array([image.get_potential_energy() for image in test_images])\n",
    "\n",
    "    list_of_error_per_atom = []\n",
    "\n",
    "    for i, image in enumerate(test_images):\n",
    "        num_atoms = len(image.get_atomic_numbers())\n",
    "        total_energy_pred = pred_energies[i]\n",
    "        total_energy_true = true_energies[i]\n",
    "\n",
    "        error = pred_energies[i] - true_energies[i]\n",
    "        per_atom_error = error / num_atoms\n",
    "        list_of_error_per_atom.append(per_atom_error)\n",
    "\n",
    "    return list_of_error_per_atom\n",
    "\n",
    "class ConformalPrediction():\n",
    "    def __init__(self, residuals_calib, heurestic_uncertainty_calib, alpha) -> None:\n",
    "        # score function\n",
    "        scores = abs(residuals_calib / heurestic_uncertainty_calib)\n",
    "        scores = np.array(scores)\n",
    "\n",
    "        n=len(residuals_calib)\n",
    "        qhat = torch.quantile(torch.from_numpy(scores), np.ceil((n + 1) * (1 - alpha)) / n)\n",
    "        qhat_value = np.float64(qhat.numpy())\n",
    "        self.qhat = qhat_value\n",
    "        pass\n",
    "\n",
    "    def predict(self, heurestic_uncertainty_test):\n",
    "        return heurestic_uncertainty_test * self.qhat, self.qhat\n",
    "\n",
    "    \n",
    "def prepare_featureNerror_from_trainer(trainer, images, image_type, get_descriptors=True):\n",
    "    predictions = trainer.predict(images, get_descriptors=get_descriptors)\n",
    "    feature = np.array(predictions[\"descriptors\"])\n",
    "\n",
    "    # errors for train, test, calib\n",
    "    if image_type in [\"test\", \"calib\", \"train\"]:\n",
    "        y_bar = np.array(predictions[\"energy\"])\n",
    "        list_error = predict_data(y_bar, images)\n",
    "        list_error = np.array(list_error)\n",
    "    else:\n",
    "        raise NotImplementedError  \n",
    "\n",
    "    return feature, list_error\n",
    "\n",
    "def split_test_calib(full_test_X, full_test_y, per_calib, seed=0):\n",
    "    # sub-select calib and test\n",
    "    np.random.seed(seed)\n",
    "\n",
    "    # num_total=5000\n",
    "    num_total = len(full_test_X)\n",
    "\n",
    "    num_calib = round(per_calib * num_total)\n",
    "\n",
    "    rand_idx = np.random.choice(num_total, size=num_total, replace=False)\n",
    "    calib_idx = rand_idx[:num_calib]\n",
    "    test_idx = rand_idx[num_calib::]\n",
    "\n",
    "    calib_X = [full_test_X[_] for _ in calib_idx]\n",
    "    test_X = [full_test_X[_] for _ in test_idx]\n",
    "\n",
    "    calib_y = [full_test_y[_] for _ in calib_idx]\n",
    "    test_y = [full_test_y[_] for _ in test_idx]\n",
    "\n",
    "    return test_X, test_y, calib_X, calib_y\n",
    "\n",
    "def calc_uncertainty_metrics(list_error, uncertainty):\n",
    "    overconfident_idx = np.argwhere(abs(list_error) > uncertainty)\n",
    "\n",
    "    prob_overconfidence = len(overconfident_idx) / len(uncertainty)\n",
    "    avg_uncertainty = np.mean(uncertainty)\n",
    "    \n",
    "    return prob_overconfidence, avg_uncertainty\n",
    "\n",
    "def get_result_hash(parameter_string):\n",
    "    string = str(parameter_string)\n",
    "    md5 = hashlib.md5(string.encode(\"utf-8\"))\n",
    "    hash_result = md5.hexdigest()\n",
    "    return hash_result"
   ]
  },
  {
   "cell_type": "code",
   "execution_count": 9,
   "id": "5e5b7a0c",
   "metadata": {},
   "outputs": [],
   "source": [
    "trial = 50000\n",
    "num_nearest_neighbors = 10\n",
    "per_calib = 0.1\n",
    "# metric = str(\"minkowski\")\n",
    "metric = \"minkowski\"\n",
    "seed = 1\n",
    "\n",
    "path2config = <input checkpoint dir> # checkpoint dir by training"
   ]
  },
  {
   "cell_type": "code",
   "execution_count": 3,
   "id": "0e378e1f",
   "metadata": {},
   "outputs": [],
   "source": [
    "# plot setting\n",
    "# import matplotlib as mpl\n",
    "# mpl.rcParams.update(mpl.rcParamsDefault)\n",
    "colors=[\"#f14432\", \"#fc8a6a\"]\n",
    "\n",
    "matplotlib.rcParams.update(matplotlib.rcParamsDefault)\n",
    "\n",
    "# Set figure defaults\n",
    "width = 6.5 / 3\n",
    "fontsize = 10\n",
    "rc = {'figure.figsize': (width, width),\n",
    "#       'font.family': \"serif\",\n",
    "      'font.size': fontsize,\n",
    "      'axes.labelsize': fontsize,\n",
    "      'axes.titlesize': fontsize,\n",
    "      'xtick.labelsize': 'small',\n",
    "      'ytick.labelsize': 'small',\n",
    "      'legend.fontsize': fontsize}\n",
    "\n",
    "matplotlib.rcParams.update(rc)"
   ]
  },
  {
   "cell_type": "code",
   "execution_count": 4,
   "id": "cb11f77a",
   "metadata": {},
   "outputs": [],
   "source": [
    "trial=50000\n",
    "\n",
    "train_filename = <input train dataset dir>\n",
    "test_filename = <input test dataset dir>\n",
    "train_list, test_list = load_training_data(train_filename, test_filename)\n"
   ]
  },
  {
   "cell_type": "code",
   "execution_count": 12,
   "id": "8b8f4daa",
   "metadata": {
    "scrolled": false
   },
   "outputs": [
    {
     "name": "stdout",
     "output_type": "stream",
     "text": [
      "Calculating feature representation...\n",
      "Loading checkpoint from ./checkpoints/2022-02-03-17-52-17-data50000-ordernorm_sigma10logwide_MCSH3_NN32_constrs1.0_sh1\n",
      "Use Xavier initialization\n",
      "Loading model: 11393 parameters\n",
      "Loading skorch trainer\n"
     ]
    }
   ],
   "source": [
    "print(\"Calculating feature representation...\")\n",
    "# load trainer\n",
    "trainer = AtomsTrainer()\n",
    "trainer.load_pretrained(path2config)\n",
    "\n",
    "# obtain the features\n",
    "train_X, train_y = prepare_featureNerror_from_trainer(trainer, train_list, \"train\")\n",
    "full_test_X, full_test_y = prepare_featureNerror_from_trainer(trainer, test_list, \"test\")\n",
    "\n",
    "# save the latent space features and energies\n",
    "# pickle.dump(train_X, open(full_train_X_filename, \"wb\"))\n",
    "# pickle.dump(train_y, open(full_train_y_filename, \"wb\"))\n",
    "# pickle.dump(full_test_X, open(full_test_X_filename, \"wb\"))\n",
    "# pickle.dump(full_test_y, open(full_test_y_filename, \"wb\"))\n",
    "# pickle.dump(t_latent_prep, open(t_latent_prep_filename, \"wb\"))"
   ]
  },
  {
   "cell_type": "code",
   "execution_count": 13,
   "id": "42504a66",
   "metadata": {},
   "outputs": [],
   "source": [
    "# predict test and calib\n",
    "test_X, test_y, calib_X, calib_y = split_test_calib(full_test_X, full_test_y, per_calib, seed=seed)\n",
    "train_X = np.array(train_X)\n",
    "train_y = np.array(train_y)\n",
    "test_X = np.array(test_X)\n",
    "test_y = np.array(test_y)\n",
    "calib_X = np.array(calib_X)\n",
    "calib_y = np.array(calib_y)\n",
    "\n",
    "# convert energy from kcal/mol to meV/sys\n",
    "train_y *= 0.04336 * 1000\n",
    "test_y *= 0.04336 * 1000\n",
    "calib_y *= 0.04336 * 1000\n"
   ]
  },
  {
   "cell_type": "code",
   "execution_count": 14,
   "id": "f7205d8a",
   "metadata": {},
   "outputs": [],
   "source": [
    "\n",
    "# calculating the distance metric for test+calib\n",
    "t0 = time.time()\n",
    "calib_dist = calc_dist(train_X, calib_X, nearest_neighbors=num_nearest_neighbors, metric=metric)\n",
    "test_dist = calc_dist(train_X, test_X, nearest_neighbors=num_nearest_neighbors, metric=metric)\n",
    "t_dist = time.time() - t0"
   ]
  },
  {
   "cell_type": "code",
   "execution_count": 16,
   "id": "7782e321",
   "metadata": {},
   "outputs": [],
   "source": [
    "from scipy import stats\n",
    "from scipy.optimize import minimize\n",
    "\n",
    "def gaussian(params):\n",
    "    s1 = params[0]   \n",
    "    s2 = params[1]\n",
    "\n",
    "    # Calculate negative log likelihood\n",
    "    nll = -np.sum(stats.norm.logpdf(calib_y, loc=0, scale=s1 + calib_dist * s2))\n",
    "\n",
    "    return nll\n",
    "\n",
    "initParams = [5e-8, 4]\n",
    "\n",
    "results = minimize(gaussian, initParams, method='Nelder-Mead')\n",
    "\n",
    "s1 = results.x[0]\n",
    "s2 = results.x[1]\n",
    "\n",
    "test_std = s1 + test_dist * s2\n",
    "t_nll = time.time() - t0\n",
    "\n",
    "# print(\"t_dist = {:.2f}\".format(t_dist))\n",
    "# print(\"t_nll = {:.2f}\".format(t_nll))"
   ]
  },
  {
   "cell_type": "code",
   "execution_count": 17,
   "id": "e0f1bca4",
   "metadata": {},
   "outputs": [],
   "source": [
    "def get_p_one_two_outsideTwo(test_sub_epa, test_latent_std):\n",
    "    # one std\n",
    "    len_one_std = np.where(np.abs(test_sub_epa) < np.abs(test_latent_std))[0]\n",
    "    len_one_std = len(len_one_std)\n",
    "    p_one_std = len_one_std / len(test_sub_epa)\n",
    "    \n",
    "    # two stds\n",
    "    len_two_std = np.where(np.abs(test_sub_epa) < 2 * np.abs(test_latent_std))[0]\n",
    "    len_two_std = len(len_two_std)\n",
    "    p_two_std = len_two_std / len(test_sub_epa)\n",
    "\n",
    "    # outside two stds\n",
    "    p_overconfidence = 1 - p_two_std\n",
    "    \n",
    "    return (p_one_std, p_two_std, p_overconfidence)"
   ]
  },
  {
   "cell_type": "code",
   "execution_count": 21,
   "id": "328e93c9",
   "metadata": {},
   "outputs": [],
   "source": [
    "import matplotlib.patheffects as PathEffects\n",
    "\n",
    "def plot_scatter_residuals_vs_heurestic_uncertainty(std_test, residuals_test, xlabel=\"feature s.d. [meV/sys]\", title=None, save_filename=None,dpi=None):\n",
    "    latent_std_test = copy.deepcopy(std_test)\n",
    "    residuals_test = copy.deepcopy(residuals_test)\n",
    "    ref_fx = np.linspace(np.amin(std_test), np.amax(std_test), 100)\n",
    "    xy = np.vstack([std_test, residuals_test])\n",
    "    z = gaussian_kde(xy)(xy)\n",
    "    # Sort the points by density, so that the densest points are plotted last\n",
    "    idx = z.argsort()\n",
    "    std_test, residuals_test, z = std_test[idx], residuals_test[idx], z[idx]\n",
    "\n",
    "    ax.plot(ref_fx, ref_fx,c=colors[0])\n",
    "    ax.plot(ref_fx, - ref_fx,c=colors[0])\n",
    "\n",
    "    ax.plot(ref_fx, 2 * ref_fx,c=colors[1])\n",
    "    ax.plot(ref_fx, - 2 * ref_fx,c=colors[1])\n",
    "\n",
    "    ax.fill_between(ref_fx, ref_fx, -ref_fx, alpha=0.2, color=colors[0], linewidth=0)\n",
    "    ax.fill_between(ref_fx, 2 * ref_fx, - 2 * ref_fx, alpha=0.2, color=colors[1], linewidth=0)\n",
    "    ax.plot(ref_fx, [0]*100, \"--\", color=\"darkgray\")\n",
    "    \n",
    "    x_lower_lim = np.quantile(std_test, 1e-4)\n",
    "    x_upper_lim = np.quantile(latent_std_test, 0.998)\n",
    "    \n",
    "    # force share-y\n",
    "    ax.set_xlim([x_lower_lim, x_upper_lim])\n",
    "    ax.set_ylim([-7.5, 7.5])\n",
    "    \n",
    "    # add text of prob\n",
    "\n",
    "    p_1, p_2, p_3 = get_p_one_two_outsideTwo(residuals_test, std_test)\n",
    "    prob_posi = (x_upper_lim - x_lower_lim) * .8 + x_lower_lim\n",
    "    txt = ax.text(prob_posi, 0.7, \"{:.0f}%\".format(p_1*100), color=colors[0])\n",
    "    txt.set_path_effects([PathEffects.withStroke(linewidth=1.5, foreground='w')])\n",
    "    txt = ax.text(prob_posi, 3.5, \"{:.0f}%\".format(p_2*100), color=colors[1])\n",
    "    txt.set_path_effects([PathEffects.withStroke(linewidth=1.5, foreground='w')])\n",
    "    txt = ax.text(prob_posi, 6.0, \"{:.0f}%\".format(p_3*100), color=\"k\")\n",
    "    txt.set_path_effects([PathEffects.withStroke(linewidth=1.5, foreground='w')])\n",
    "\n",
    "    pcm = ax.scatter(std_test, residuals_test, c=z, s=20, linewidths=None, alpha=.2)\n",
    "    _ = ax.set_xlabel(xlabel)\n",
    "    _ = ax.set_ylabel(\"residual [meV/sys]\")\n",
    "\n",
    "\n",
    "    if title is not None:\n",
    "        ax.set_title(title)\n",
    "    return fig, ax"
   ]
  },
  {
   "cell_type": "code",
   "execution_count": 24,
   "id": "d344ea9c",
   "metadata": {},
   "outputs": [
    {
     "data": {
      "image/png": "[encoded data removed]",
      "text/plain": [
       "<Figure size 216.667x216.667 with 1 Axes>"
      ]
     },
     "execution_count": 24,
     "metadata": {},
     "output_type": "execute_result"
    }
   ],
   "source": [
    "fig_filename = \"./figures/panel_method_comparison/nll_feature_dpi300.png\"\n",
    "fig, ax = plt.subplots(figsize=(width, width))\n",
    "fig, ax = plot_scatter_residuals_vs_heurestic_uncertainty(test_std, test_y)\n",
    "fig.savefig(fig_filename, dpi=300,bbox_inches='tight',transparent=True)\n",
    "fig"
   ]
  },
  {
   "cell_type": "code",
   "execution_count": 25,
   "id": "90f77e66",
   "metadata": {},
   "outputs": [
    {
     "data": {
      "text/plain": [
       "-0.05067788875056689"
      ]
     },
     "execution_count": 25,
     "metadata": {},
     "output_type": "execute_result"
    }
   ],
   "source": [
    "np.mean(test_y)"
   ]
  },
  {
   "cell_type": "code",
   "execution_count": 26,
   "id": "c8ae78db",
   "metadata": {},
   "outputs": [
    {
     "data": {
      "text/plain": [
       "Text(23.999999999999993, 0.5, 'frequency')"
      ]
     },
     "execution_count": 26,
     "metadata": {},
     "output_type": "execute_result"
    }
   ],
   "source": [
    "plt.hist(test_std,bins=100)\n",
    "plt.xlabel(\"std\")\n",
    "plt.ylabel(\"frequency\")\n",
    "\n",
    "# plt.hist(test_uncertainty2)"
   ]
  },
  {
   "cell_type": "code",
   "execution_count": 35,
   "id": "8792e5aa",
   "metadata": {},
   "outputs": [
    {
     "data": {
      "text/plain": [
       "0.013166992201276146"
      ]
     },
     "execution_count": 35,
     "metadata": {},
     "output_type": "execute_result"
    }
   ],
   "source": [
    "# analyze which the portion of test data in between one to two std\n",
    "\n",
    "from scipy.stats import norm\n",
    "\n",
    "# count the number of instances\n",
    "\n",
    "expected_stds = np.linspace(norm.ppf(1e-4),\n",
    "                norm.ppf(1-1e-4), 15)\n",
    "\n",
    "# normalize \n",
    "test_avg_norm = test_y / test_std\n",
    "\n",
    "expected_ps = []\n",
    "observed_ps = []\n",
    "# test_uncertainties = []\n",
    "\n",
    "for std in expected_stds: \n",
    "    count = np.sum(test_avg_norm < std)\n",
    "    observed_ps.append(count / len(test_avg_norm))\n",
    "    expected_ps.append(norm.cdf(std))\n",
    "\n",
    "    \n",
    "# calculate the area of miscalculation in calibration curve\n",
    "\n",
    "from scipy.integrate import trapz as trapezoid\n",
    "\n",
    "area = 0\n",
    "\n",
    "for i in range(1, len(observed_ps)+1):\n",
    "    trap = np.abs(trapezoid(observed_ps[i-1:i+1], expected_ps[i-1:i+1]) \n",
    "                  - trapezoid(expected_ps[i-1:i+1], expected_ps[i-1:i+1]))\n",
    "    area += trap\n",
    "\n",
    "area"
   ]
  },
  {
   "cell_type": "code",
   "execution_count": 36,
   "id": "dc0df964",
   "metadata": {},
   "outputs": [
    {
     "data": {
      "image/png": "[encoded data removed]",
      "text/plain": [
       "<Figure size 216.667x216.667 with 1 Axes>"
      ]
     },
     "execution_count": 36,
     "metadata": {},
     "output_type": "execute_result"
    }
   ],
   "source": [
    "import matplotlib.ticker as mtick\n",
    "\n",
    "expected_ps = np.array(expected_ps) * 100 # convert to %\n",
    "observed_ps = np.array(observed_ps) * 100 # convert to %\n",
    "\n",
    "fig, ax = plt.subplots(figsize=(width,width))\n",
    "ax.plot(expected_ps, observed_ps)\n",
    "ax.plot(expected_ps, expected_ps, \"--\", alpha=0.4)\n",
    "\n",
    "ax.fill_between(expected_ps, expected_ps, observed_ps, alpha=0.2, linewidth=0)\n",
    "ax.set_xlim([0, 100])\n",
    "ax.set_ylim([0, 100])\n",
    "ax.set_aspect('equal')\n",
    "\n",
    "ax.set_xlabel(\"Expected conf. level\")\n",
    "ax.set_ylabel(\"Observed conf. level\")\n",
    "ax.locator_params(axis='y', nbins=4)\n",
    "ax.locator_params(axis='x', nbins=4)\n",
    "ax.xaxis.set_major_formatter(mtick.PercentFormatter())\n",
    "ax.yaxis.set_major_formatter(mtick.PercentFormatter())\n",
    "ax.text(8, 2, \"miscalc. area = {:.3f}\".format(area))\n",
    "\n",
    "save_filename = \"./figures/panel_method_comparison/feature_nll_calibration_curve.pdf\"\n",
    "fig.savefig(save_filename,bbox_inches='tight',transparent=True)\n",
    "fig"
   ]
  },
  {
   "cell_type": "code",
   "execution_count": 15,
   "id": "55f9e365",
   "metadata": {},
   "outputs": [
    {
     "data": {
      "text/plain": [
       "87.24753304743277"
      ]
     },
     "execution_count": 15,
     "metadata": {},
     "output_type": "execute_result"
    }
   ],
   "source": [
    "# average uncertainty in meV/sys\n",
    "\n",
    "np.mean(test_std)"
   ]
  },
  {
   "cell_type": "code",
   "execution_count": null,
   "id": "276da6bd",
   "metadata": {},
   "outputs": [],
   "source": []
  }
 ],
 "metadata": {
  "kernelspec": {
   "display_name": "Python [conda env:.conda-amptorch_gpu]",
   "language": "python",
   "name": "conda-env-.conda-amptorch_gpu-py"
  },
  "language_info": {
   "codemirror_mode": {
    "name": "ipython",
    "version": 3
   },
   "file_extension": ".py",
   "mimetype": "text/x-python",
   "name": "python",
   "nbconvert_exporter": "python",
   "pygments_lexer": "ipython3",
   "version": "3.6.15"
  }
 },
 "nbformat": 4,
 "nbformat_minor": 5
}
